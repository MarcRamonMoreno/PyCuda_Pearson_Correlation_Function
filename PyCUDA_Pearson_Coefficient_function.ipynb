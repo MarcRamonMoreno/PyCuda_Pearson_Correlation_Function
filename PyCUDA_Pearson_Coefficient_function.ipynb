{
 "cells": [
  {
   "cell_type": "code",
   "execution_count": 16,
   "metadata": {},
   "outputs": [
    {
     "data": {
      "text/plain": [
       "(-0.00015950359435246047, -8.318557123683293e-05)"
      ]
     },
     "execution_count": 16,
     "metadata": {},
     "output_type": "execute_result"
    }
   ],
   "source": [
    "import pycuda.autoinit\n",
    "import numpy as np\n",
    "import pycuda.gpuarray as gpuarray\n",
    "import pycuda.driver as drv\n",
    "from pycuda.reduction import ReductionKernel\n",
    "\n",
    "# Reduction Kernels for summing elements, summing squares, and summing products.\n",
    "sum_kernel = ReductionKernel(np.float64, neutral=\"0\",\n",
    "                             reduce_expr=\"a+b\", map_expr=\"x[i]\",\n",
    "                             arguments=\"const double *x\")\n",
    "\n",
    "sum_sq_kernel = ReductionKernel(np.float64, neutral=\"0\",\n",
    "                                reduce_expr=\"a+b\", map_expr=\"x[i]*x[i]\",\n",
    "                                arguments=\"const double *x\")\n",
    "\n",
    "product_sum_kernel = ReductionKernel(np.float64, neutral=\"0\",\n",
    "                                     reduce_expr=\"a+b\", map_expr=\"x[i]*y[i]\",\n",
    "                                     arguments=\"const double *x, const double *y\")\n",
    "\n",
    "\n",
    "# Define a function to calculate Pearson's correlation coefficient\n",
    "def pearson_correlation(x, y):\n",
    "    n = x.size  # Use the size of the array instead of passing N\n",
    "    \n",
    "    x_gpu = gpuarray.to_gpu(np.asarray(x, np.float64))\n",
    "    y_gpu = gpuarray.to_gpu(np.asarray(y, np.float64))\n",
    "    \n",
    "    # Perform the reduction operations on the GPU and fetch the results to the host.\n",
    "    sum_x = sum_kernel(x_gpu).get()\n",
    "    sum_y = sum_kernel(y_gpu).get()\n",
    "    sum_x_sq = sum_sq_kernel(x_gpu).get()\n",
    "    sum_y_sq = sum_sq_kernel(y_gpu).get()\n",
    "    psum = product_sum_kernel(x_gpu, y_gpu).get()\n",
    "    \n",
    "    # Calculate the numerator and denominator for Pearson's correlation coefficient.\n",
    "    num = psum - (sum_x * sum_y / n)\n",
    "    den = np.sqrt((sum_x_sq - (sum_x ** 2 / n)) * (sum_y_sq - (sum_y ** 2 / n)))\n",
    "    \n",
    "    # Return the Pearson correlation coefficient.\n",
    "    return num / den if den != 0 else 0\n",
    "\n",
    "\n",
    "N = 50000000\n",
    "# Generate random samples for tobacco, cancer, and infertility datasets\n",
    "np.random.seed(0)  # Seed for reproducibility\n",
    "tobacco_use = np.random.rand(N)\n",
    "cancer_cases = np.random.rand(N)\n",
    "infertility_cases = np.random.rand(N)\n",
    "\n",
    "# Calculate Pearson's correlation coefficient for tobacco and cancer\n",
    "correlation_tobacco_cancer = pearson_correlation(tobacco_use, cancer_cases)\n",
    "\n",
    "# Calculate Pearson's correlation coefficient for tobacco and infertility\n",
    "correlation_tobacco_infertility = pearson_correlation(tobacco_use, infertility_cases)\n",
    "\n",
    "correlation_tobacco_cancer, correlation_tobacco_infertility\n"
   ]
  }
 ],
 "metadata": {
  "kernelspec": {
   "display_name": "pycuda_env",
   "language": "python",
   "name": "python3"
  },
  "language_info": {
   "codemirror_mode": {
    "name": "ipython",
    "version": 3
   },
   "file_extension": ".py",
   "mimetype": "text/x-python",
   "name": "python",
   "nbconvert_exporter": "python",
   "pygments_lexer": "ipython3",
   "version": "3.11.5"
  }
 },
 "nbformat": 4,
 "nbformat_minor": 2
}
